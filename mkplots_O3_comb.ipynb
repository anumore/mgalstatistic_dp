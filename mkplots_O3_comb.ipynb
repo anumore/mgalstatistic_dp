{
 "cells": [
  {
   "cell_type": "code",
   "execution_count": 1,
   "id": "662f09f8-e13a-49d4-9761-353abf6ba77a",
   "metadata": {},
   "outputs": [],
   "source": [
    "import numpy as np\n",
    "from pylab import plt\n",
    "import sys\n",
    "import snronpairs_quad_dbl as sn\n",
    "import contfunc as cf"
   ]
  },
  {
   "cell_type": "code",
   "execution_count": 2,
   "id": "fb52c542-5832-4468-b04b-9defa812c45e",
   "metadata": {},
   "outputs": [],
   "source": [
    "\n",
    "def read_hemanta_data(filename=\"./Hemanta_data/O3b plots/detectable_4_image_type_1/lensed_params_detectable.json\"):\n",
    "    ''' read Hemanta's data\n",
    "\n",
    "    Parameters\n",
    "    filename : name of the file to read\n",
    "\n",
    "    Returns\n",
    "    parameters : dictionary of parameters ('zl', 'zs', 'sigma', 'q', 'e1', 'e2', 'gamma1', 'gamma2', 'Dl', 'Ds', 'Dls', 'theta_E', 'gamma', 'mass_1', 'mass_2', 'mass_1_source', 'mass_2_source', 'luminosity_distance', 'iota', 'psi', 'phase', 'geocent_time', 'ra', 'dec', 'n_images', 'x0_image_positions', 'x1_image_positions', 'magnifications', 'time_delays', 'traces', 'determinants', 'image_type', 'weights', 'opt_snr_net', 'L1', 'H1', 'V1')\n",
    "\n",
    "    Note: \n",
    "        * For image type 1, the signal-to-noise ratio of the first two events is always above threshold (SNR>8), i.e., detectable\n",
    "        * For image type 2, the signal-to-noise ratio of the last two events is always above threshold (SNR>8), i.e., detectable\n",
    "        * Each of the sample is weighted by 'weights' (see above for all dictionary keys)\n",
    "    '''\n",
    "    import json\n",
    "    f = open(filename)\n",
    "    params = json.loads(f.read())\n",
    "    f.close()\n",
    "    return params\n",
    "\n",
    "def return_hemanta_data_same_type_images():\n",
    "    ''' return Hemanta's data for same type images (type-I type-I or type-II type-II)\n",
    "\n",
    "    Returns\n",
    "    mag,tdel,idx : magnification, time delay, weights, and index of the sample\n",
    "\n",
    "    Note:\n",
    "        * The mag is defined to be the union of both of the magnifications (type-I,type-I and type-II, type-II)\n",
    "    '''\n",
    "    day = 24*3600 # Days in seconds\n",
    "    # Extract the magnification and time delay distribution for O3 for Hemanta's catalog - quads only with first 2 or last 2 images detectable\n",
    "    param = read_hemanta_data(filename=\"./Hemanta_data/O3b plots/phase_diff_0.json\")\n",
    "    mag = np.array(param['dmu'])\n",
    "    tdel = np.array(param['dt']) # in days\n",
    "    \n",
    "    return mag,tdel\n",
    "\n",
    "def return_hemanta_data_different_type_images():\n",
    "    ''' return Hemanta's data for different type images (type-I type-II)\n",
    "\n",
    "    Returns\n",
    "    mag,tdel,idx : magnification, time delay, weights, and index of the sample\n",
    "\n",
    "    Note:\n",
    "        * The mag is defined to be the union of both of the magnifications (type-I,type-II; for quads, there are 2 pairs of such images)\n",
    "    '''\n",
    "    \n",
    "    day = 24*3600 # Days in seconds\n",
    "    # Extract the magnification and time delay distribution for O3 for Hemanta's catalog - quads only with first 2 or last 2 images detectable\n",
    "    param = read_hemanta_data(filename=\"./Hemanta_data/O3b plots/phase_diff_90.json\")\n",
    "    mag = np.array(param['dmu'])\n",
    "    tdel = np.array(param['dt']) # in days\n",
    "    \n",
    "    return mag,tdel"
   ]
  },
  {
   "cell_type": "code",
   "execution_count": 3,
   "id": "414738f2-9123-49cc-8d71-da8374cd757a",
   "metadata": {},
   "outputs": [
    {
     "data": {
      "text/plain": [
       "<Figure size 400x600 with 0 Axes>"
      ]
     },
     "metadata": {},
     "output_type": "display_data"
    }
   ],
   "source": [
    "## O3 \n",
    "det=\"O3\"\n",
    "\n",
    "fig = plt.figure(figsize=(4,3*2))\n",
    "lab=np.array([\"O3, $\\Delta\\phi$=0\", \"O3, $\\Delta\\phi$=90\"])\n",
    "\n",
    "\n",
    "def makeplot(names,kk,mag_comb, tdel_comb, gwm,gwt,gwmerr,amplitude_unlensed,td_unlensed,lab, mag_comb_hemanta, tdel_comb_hemanta):\n",
    "    ''' make plot of mag vs tdel for a given SNR \n",
    "\n",
    "    Parameters\n",
    "    names: list of names of the events\n",
    "    kk : SNR index\n",
    "    mag_comb : combined magnification\n",
    "    tdel_comb : combined time delay\n",
    "    gwm : GW magnification\n",
    "    gwt : GW time delay\n",
    "    gwmerr : GW magnification error\n",
    "    amplitude_unlensed : unlensed amplitude\n",
    "    td_unlensed : time delay for unlensed case\n",
    "    lab : label for plot\n",
    "    mag_comb_hemanta : combined magnification for second catalog (Hemanta's)\n",
    "    tdel_comb_hemanta : combined time delay for second catalog (Hemanta's)\n",
    "    '''\n",
    "    \n",
    "    # Label the gwnames in alphabetical order as a list \n",
    "    gwnames_abcd = np.array(['a','b','c','d','e','f','g','h','i','j','k','l','m','n'])\n",
    "    # Cut out the labels that go over the length of the gwnames\n",
    "    gwnames_abcd = gwnames_abcd[:len(names)]\n",
    "\n",
    "    ax1=fig.add_subplot(2,1,kk)\n",
    "\n",
    "    #######\n",
    "    \n",
    "    xxl,yyl,ffl=cf.contfunc(tdel_comb,mag_comb)\n",
    "    xxl2,yyl2,ffl2=cf.contfunc(tdel_comb_hemanta,mag_comb_hemanta)\n",
    "    \n",
    "     \n",
    "    ax1.plot(0,0,label=lab,color=\"g\")\n",
    "    levels_l=cf.contlevs(ffl) \n",
    "    levels_l2=cf.contlevs(ffl2)\n",
    "    cset=ax1.contour(np.rot90(ffl), levels_l, colors='lightgreen', origin='upper', extent=extent_im)\n",
    "    cset2=ax1.contour(np.rot90(ffl2), levels_l2, colors='lightgray', linestyles='dashed', origin='upper', extent=extent_im)\n",
    "    \n",
    "    \n",
    "    xxu,yyu,ffu=cf.contfunc(td_unlensed,amplitude_unlensed)\n",
    "    levels=cf.contlevs(ffu) \n",
    "    cset=ax1.contour(np.rot90(ffu), levels, colors='gray', origin='upper', extent=extent_im)\n",
    "     \n",
    "    levels_n=cf.contlevs(ffu, returnfirst=True) \n",
    "    #cfset = ax1.contourf(xxu, yyu,  ffu, levels_n,cmap='YlOrBr', alphas=0.1)\n",
    "    cfset = ax1.contourf(xxu, yyu,  ffu, levels_n,cmap='GnBu', alphas=0.1)\n",
    "\n",
    "   \n",
    "    if(kk==1):\n",
    "        ax1.errorbar(np.log10(gwt),np.log10(gwm),color=\"lightblue\",yerr=gwmerr/gwm/np.log(10.),fmt=\"o\",alpha=0.7) \n",
    "        ax1.set_ylabel(\"Log (Relative magnification)\")\n",
    "        for i, txt in enumerate(names):\n",
    "            ax1.annotate(gwnames_abcd[i], (np.log10(gwt[i]),np.log10(gwm[i])), xytext=(np.log10(gwt[i])+0.1,np.log10(gwm[i])),color=\"black\", fontsize=6)\n",
    "    if(kk==2): \n",
    "        #ax1.tick_params(left = False, labelleft = False )\n",
    "        ax1.errorbar(np.log10(gwt),np.log10(gwm),label=\"O3-GW Events\",color=\"lightblue\",yerr=gwmerr/gwm/np.log(10.),alpha=0.7,fmt=\"o\") \n",
    "        ax1.set_ylabel(\"Log (Relative magnification)\")\n",
    "        for i, txt in enumerate(names):\n",
    "            ax1.annotate(gwnames_abcd[i], (np.log10(gwt[i]),np.log10(gwm[i])), xytext=(np.log10(gwt[i])+0.1,np.log10(gwm[i])),color=\"black\", fontsize=6)\n",
    "    # Create a tick annotation label top-left that makes an arrow to the errorbar ticks\n",
    "    # Adjust texts\n",
    "    from adjustText import adjust_text\n",
    "    adjust_text(ax1.texts, only_move={'points':'y', 'text':'y'})\n",
    "\n",
    "    # Now add the actual gw names to the very top of the plot\n",
    "    for i, txt in enumerate(names):\n",
    "        if kk == 1:\n",
    "            yshift = -1.3\n",
    "        if kk == 2:\n",
    "            yshift = -0.9\n",
    "        ax1.annotate(gwnames_abcd[i]+\") \"+txt, (np.log10(gwt[i]),np.log10(gwm[i])), xytext=(-1.95,-0.15*i+yshift),color=\"black\", fontsize=6)\n",
    "\n",
    "    \n",
    "    ax1.set_xlabel(\"Log (Time delay) (days)\")\n",
    "    plt.legend(loc=\"lower right\",fontsize=9)\n",
    "\n",
    "    # Print out the names and the corresponding alphabets\n",
    "    for i, txt in enumerate(names):\n",
    "        print(gwnames_abcd[i], txt)\n",
    "    print(\"\")\n"
   ]
  },
  {
   "cell_type": "code",
   "execution_count": 8,
   "id": "e15a5dd5-22a0-47f3-aa99-47ee273894e1",
   "metadata": {},
   "outputs": [
    {
     "name": "stdout",
     "output_type": "stream",
     "text": [
      "1825 6213 392 654 2111 651 3917\n"
     ]
    },
    {
     "name": "stderr",
     "output_type": "stream",
     "text": [
      "/var/folders/1k/7db4shj965v6jkny3rgd0cjc0000gn/T/ipykernel_8799/4171762915.py:52: UserWarning: The following kwargs were not used by contour: 'alphas'\n",
      "  cfset = ax1.contourf(xxu, yyu,  ffu, levels_n,cmap='GnBu', alphas=0.1)\n",
      "No artists with labels found to put in legend.  Note that artists whose label start with an underscore are ignored when legend() is called with no argument.\n"
     ]
    },
    {
     "name": "stdout",
     "output_type": "stream",
     "text": [
      "a 190421_213856-190910_112807\n",
      "b 190424_180648-190727_060333\n",
      "c 190424_180648-190803_022701\n",
      "d 190731_140936-190803_022701\n",
      "e 190803_022701-190910_112807\n",
      "\n"
     ]
    },
    {
     "name": "stderr",
     "output_type": "stream",
     "text": [
      "No artists with labels found to put in legend.  Note that artists whose label start with an underscore are ignored when legend() is called with no argument.\n"
     ]
    },
    {
     "name": "stdout",
     "output_type": "stream",
     "text": [
      "a 190424_180648-190727_060333\n",
      "b 190424_180648-190910_112807\n",
      "c 190513_205428-190630_185205\n",
      "d 190719_215514-190915_235702\n",
      "e 190421_213856-190731_140936\n",
      "f 190424_180648-190521_074359\n",
      "g 190731_140936-190910_112807\n",
      "h 190803_022701-190910_112807\n",
      "\n"
     ]
    },
    {
     "data": {
      "image/png": "[encoded data removed]",
      "text/plain": [
       "<Figure size 640x480 with 1 Axes>"
      ]
     },
     "metadata": {},
     "output_type": "display_data"
    }
   ],
   "source": [
    "\n",
    "## Extract the magnification and time delay distribution for O3 - quads and doubles\n",
    "mag31,tdel31,mag32,tdel32,mag41,tdel41,mag42,tdel42,mag21,tdel21,mag43,tdel43,dbmg21,dbtd21= sn.getsnr_forpairs(det)\n",
    "print(mag31.size,mag32.size,mag41.size,mag42.size, mag21.size,mag43.size, dbmg21.size)\n",
    "## phase diff of 0\n",
    "mag1=np.concatenate((mag21,mag43))\n",
    "tdel1=np.concatenate((tdel21,tdel43))\n",
    "idx1=(tdel1>1e-3) & (mag1>5e-2)\n",
    "## phase diff of 90\n",
    "mag2=np.concatenate([mag31,mag32,mag41,mag42,dbmg21])\n",
    "tdel2=np.concatenate([tdel31,tdel32,tdel41,tdel42,dbtd21])\n",
    "idx2=(tdel2>1e-3) & (mag2>5e-2)\n",
    "\n",
    "# Next we extract the same information as above from Hemanta's catalog \n",
    "mag1_hemanta,tdel1_hemanta = return_hemanta_data_same_type_images()\n",
    "mag2_hemanta,tdel2_hemanta = return_hemanta_data_different_type_images()\n",
    "\n",
    "#### Unlensed pairs\n",
    "td_unlensed,amplitude_unlensed=np.loadtxt(\"unlensedpairs/unlensedpairs_tdmag_%s.txt\"%(det),unpack=1) \n",
    "idxu=(td_unlensed>1e-3) & (amplitude_unlensed>1e-3)\n",
    "\n",
    "## GW events difference of gps times; in seconds\n",
    "gwtdel0,gwrmag0,gwmerr0=np.loadtxt(\"gwevents_O3/gwevents_phdf0.txt\",usecols=(2,3,4),unpack=1)\n",
    "gwtdel90,gwrmag90,gwmerr90=np.loadtxt(\"gwevents_O3/gwevents_phdf90.txt\",usecols=(2,3,4),unpack=1)\n",
    "# Get the names (column 1) of the GW events\n",
    "gwname0_0=np.loadtxt(\"gwevents_O3/gwevents_phdf0.txt\",usecols=(0,),dtype=str)\n",
    "gwname0_1=np.loadtxt(\"gwevents_O3/gwevents_phdf0.txt\",usecols=(1,),dtype=str)\n",
    "gwname90_0=np.loadtxt(\"gwevents_O3/gwevents_phdf90.txt\",usecols=(0,),dtype=str)\n",
    "gwname90_1=np.loadtxt(\"gwevents_O3/gwevents_phdf90.txt\",usecols=(1,),dtype=str)\n",
    "#  Combine the names of the GW events in string format \"event1--event2\"\n",
    "gwname0=np.array([gwname0_0[i][2:]+\"-\"+gwname0_1[i][2:] for i in range(gwname0_0.size)])\n",
    "gwname90=np.array([gwname90_0[i][2:]+\"-\"+gwname90_1[i][2:] for i in range(gwname90_0.size)])\n",
    "\n",
    "xmin =np.log10(1e-2) \n",
    "xmax =np.log10(5e2)  \n",
    "ymin =np.log10(1e-2)    \n",
    "ymax =np.log10(1e2)  \n",
    "extent_im=[xmin, xmax, ymin, ymax]\n",
    "\n",
    "\n",
    "makeplot(gwname0,1,mag1[idx1],tdel1[idx1],gwrmag0,gwtdel0/3600/24,gwmerr0,amplitude_unlensed[idxu],td_unlensed[idxu],lab[0], mag1_hemanta, tdel1_hemanta)\n",
    "makeplot(gwname90,2,mag2[idx2],tdel2[idx2],gwrmag90,gwtdel90/3600/24,gwmerr90,amplitude_unlensed[idxu],td_unlensed[idxu],lab[1], mag2_hemanta, tdel2_hemanta)\n",
    "\n",
    "plt.subplots_adjust(hspace=0.,wspace=0.02)\n",
    "plt.savefig(\"O3_comb.pdf\", bbox_inches='tight')\n",
    "plt.show()\n"
   ]
  },
  {
   "cell_type": "code",
   "execution_count": null,
   "id": "edf8ca7b-6093-4750-ab0a-92ef0331e2bc",
   "metadata": {},
   "outputs": [],
   "source": []
  }
 ],
 "metadata": {
  "kernelspec": {
   "display_name": "Python 3 (ipykernel)",
   "language": "python",
   "name": "python3"
  },
  "language_info": {
   "codemirror_mode": {
    "name": "ipython",
    "version": 3
   },
   "file_extension": ".py",
   "mimetype": "text/x-python",
   "name": "python",
   "nbconvert_exporter": "python",
   "pygments_lexer": "ipython3",
   "version": "3.10.9"
  }
 },
 "nbformat": 4,
 "nbformat_minor": 5
}
